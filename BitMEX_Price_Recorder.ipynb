{
 "cells": [
  {
   "cell_type": "code",
   "execution_count": null,
   "metadata": {
    "collapsed": true
   },
   "outputs": [],
   "source": [
    "# To retrieve last price data every 60 seconds. Outputs a csv file every 10 minutes.\n",
    "\n",
    "%reset\n",
    "\n",
    "from bitmex_websocket import BitMEXWebsocket\n",
    "from time import sleep\n",
    "import datetime\n",
    "import pandas as pd\n",
    "import time\n",
    "\n",
    "data_intervals = 60\n",
    "\n",
    "ws = BitMEXWebsocket(endpoint=\"wss://www.bitmex.com/realtime\", symbol=\"XBTUSD\", api_key = \"insert api key here\", api_secret = \"insert api secret here\")\n",
    "\n",
    "empty_df = pd.DataFrame(columns = [\"Time\", \"XBTUSD\"])\n",
    "i = 0\n",
    "y = 0\n",
    "\n",
    "while(ws.ws.sock.connected):\n",
    "    empty_df = empty_df.append({\"Time\": str(datetime.datetime.now().replace(microsecond = 0)), \n",
    "                                \"XBTUSD\": str(ws.get_instrument()[\"lastPrice\"])}, ignore_index = True)\n",
    "    sleep(data_intervals)\n",
    "    i += 1\n",
    "    r = i % 10\n",
    "    if (r == 0):\n",
    "        y += 1\n",
    "        empty_df.to_csv(\"XBT_pricing.csv\")\n",
    "        print(\"Time pass:\", str((y*data_intervals)/60))"
   ]
  }
 ],
 "metadata": {
  "kernelspec": {
   "display_name": "Python 3",
   "language": "python",
   "name": "python3"
  },
  "language_info": {
   "codemirror_mode": {
    "name": "ipython",
    "version": 3
   },
   "file_extension": ".py",
   "mimetype": "text/x-python",
   "name": "python",
   "nbconvert_exporter": "python",
   "pygments_lexer": "ipython3",
   "version": "3.6.0"
  }
 },
 "nbformat": 4,
 "nbformat_minor": 2
}
